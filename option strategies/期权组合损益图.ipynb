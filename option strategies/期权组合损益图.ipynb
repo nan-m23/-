{
 "cells": [
  {
   "cell_type": "code",
   "execution_count": 56,
   "metadata": {},
   "outputs": [],
   "source": [
    "import numpy as np\n",
    "import pandas as pd\n",
    "from scipy import interpolate\n",
    "import matplotlib.pyplot as plt\n",
    "%matplotlib inline"
   ]
  },
  {
   "cell_type": "markdown",
   "metadata": {},
   "source": [
    "跨式期权组合"
   ]
  },
  {
   "cell_type": "code",
   "execution_count": 15,
   "metadata": {},
   "outputs": [],
   "source": [
    "S = range(100)\n",
    "#看涨期权\n",
    "k_call = 50\n",
    "p_call = 10\n",
    "\n",
    "#看跌期权\n",
    "k_put = 50\n",
    "p_put = 9\n",
    "\n",
    "option_value = pd.DataFrame(columns = ['S' , 'call_price' , 'put_price' , 'straddle_price'])\n",
    "option_value['S'] = S"
   ]
  },
  {
   "cell_type": "code",
   "execution_count": 27,
   "metadata": {
    "scrolled": true
   },
   "outputs": [
    {
     "name": "stderr",
     "output_type": "stream",
     "text": [
      "<ipython-input-27-47c5ffe6579e>:5: SettingWithCopyWarning: \n",
      "A value is trying to be set on a copy of a slice from a DataFrame\n",
      "\n",
      "See the caveats in the documentation: https://pandas.pydata.org/pandas-docs/stable/user_guide/indexing.html#returning-a-view-versus-a-copy\n",
      "  option_value['call_price'][s] = p_call\n",
      "<ipython-input-27-47c5ffe6579e>:7: SettingWithCopyWarning: \n",
      "A value is trying to be set on a copy of a slice from a DataFrame\n",
      "\n",
      "See the caveats in the documentation: https://pandas.pydata.org/pandas-docs/stable/user_guide/indexing.html#returning-a-view-versus-a-copy\n",
      "  option_value['call_price'][s] = p_call\n",
      "<ipython-input-27-47c5ffe6579e>:10: SettingWithCopyWarning: \n",
      "A value is trying to be set on a copy of a slice from a DataFrame\n",
      "\n",
      "See the caveats in the documentation: https://pandas.pydata.org/pandas-docs/stable/user_guide/indexing.html#returning-a-view-versus-a-copy\n",
      "  option_value['call_price'][s] = p_call + k_call - s\n"
     ]
    }
   ],
   "source": [
    "#卖出看涨期权损益\n",
    "for s in S:\n",
    "    \n",
    "    if s < k_call :\n",
    "        option_value['call_price'][s] = p_call\n",
    "    elif s == k_call:\n",
    "        option_value['call_price'][s] = p_call\n",
    "        \n",
    "    else :\n",
    "        option_value['call_price'][s] = p_call + k_call - s \n",
    "\n",
    "    "
   ]
  },
  {
   "cell_type": "code",
   "execution_count": 28,
   "metadata": {},
   "outputs": [
    {
     "name": "stderr",
     "output_type": "stream",
     "text": [
      "<ipython-input-28-f359ff333336>:5: SettingWithCopyWarning: \n",
      "A value is trying to be set on a copy of a slice from a DataFrame\n",
      "\n",
      "See the caveats in the documentation: https://pandas.pydata.org/pandas-docs/stable/user_guide/indexing.html#returning-a-view-versus-a-copy\n",
      "  option_value['put_price'][s] = s + p_put - k_put\n",
      "<ipython-input-28-f359ff333336>:8: SettingWithCopyWarning: \n",
      "A value is trying to be set on a copy of a slice from a DataFrame\n",
      "\n",
      "See the caveats in the documentation: https://pandas.pydata.org/pandas-docs/stable/user_guide/indexing.html#returning-a-view-versus-a-copy\n",
      "  option_value['put_price'][s] = s + p_put - k_put\n",
      "<ipython-input-28-f359ff333336>:11: SettingWithCopyWarning: \n",
      "A value is trying to be set on a copy of a slice from a DataFrame\n",
      "\n",
      "See the caveats in the documentation: https://pandas.pydata.org/pandas-docs/stable/user_guide/indexing.html#returning-a-view-versus-a-copy\n",
      "  option_value['put_price'][s] = p_put\n"
     ]
    }
   ],
   "source": [
    "#卖出看跌期权损益\n",
    "for s in S:\n",
    "    \n",
    "    if s < k_call :\n",
    "        option_value['put_price'][s] = s + p_put - k_put\n",
    "    \n",
    "    elif s == k_call:\n",
    "        option_value['put_price'][s] = s + p_put - k_put\n",
    "        \n",
    "    else :\n",
    "        option_value['put_price'][s] = p_put"
   ]
  },
  {
   "cell_type": "code",
   "execution_count": 62,
   "metadata": {
    "scrolled": true
   },
   "outputs": [],
   "source": [
    "#跨式组合损益\n",
    "option_value['straddle_price'] = option_value['call_price'] + option_value['put_price']"
   ]
  },
  {
   "cell_type": "code",
   "execution_count": 65,
   "metadata": {},
   "outputs": [
    {
     "data": {
      "text/plain": [
       "Text(0.5, 1.0, 'Straddle')"
      ]
     },
     "execution_count": 65,
     "metadata": {},
     "output_type": "execute_result"
    },
    {
     "data": {
      "image/png": "[encoded data removed]",
      "text/plain": [
       "<Figure size 432x288 with 1 Axes>"
      ]
     },
     "metadata": {
      "needs_background": "light"
     },
     "output_type": "display_data"
    }
   ],
   "source": [
    "option_value['call_price'].plot(c = 'b')\n",
    "option_value['put_price'].plot(c = 'b')\n",
    "option_value['straddle_price'].plot(c = 'g')\n",
    "plt.title('Straddle')"
   ]
  },
  {
   "cell_type": "code",
   "execution_count": 41,
   "metadata": {},
   "outputs": [],
   "source": [
    "#备兑卖出看涨期权\n",
    "k1 = 53\n",
    "call_price1 = 10"
   ]
  },
  {
   "cell_type": "code",
   "execution_count": 44,
   "metadata": {},
   "outputs": [
    {
     "name": "stderr",
     "output_type": "stream",
     "text": [
      "<ipython-input-44-912ab13b8327>:4: SettingWithCopyWarning: \n",
      "A value is trying to be set on a copy of a slice from a DataFrame\n",
      "\n",
      "See the caveats in the documentation: https://pandas.pydata.org/pandas-docs/stable/user_guide/indexing.html#returning-a-view-versus-a-copy\n",
      "  option_value['call_price1'][s] = call_price1\n",
      "<ipython-input-44-912ab13b8327>:6: SettingWithCopyWarning: \n",
      "A value is trying to be set on a copy of a slice from a DataFrame\n",
      "\n",
      "See the caveats in the documentation: https://pandas.pydata.org/pandas-docs/stable/user_guide/indexing.html#returning-a-view-versus-a-copy\n",
      "  option_value['call_price1'][s] = call_price1\n",
      "<ipython-input-44-912ab13b8327>:9: SettingWithCopyWarning: \n",
      "A value is trying to be set on a copy of a slice from a DataFrame\n",
      "\n",
      "See the caveats in the documentation: https://pandas.pydata.org/pandas-docs/stable/user_guide/indexing.html#returning-a-view-versus-a-copy\n",
      "  option_value['call_price1'][s] = call_price1 + k1 - s\n"
     ]
    }
   ],
   "source": [
    "option_value['call_price1'] = 0\n",
    "for s in S:\n",
    "    if s < k1 :\n",
    "        option_value['call_price1'][s] = call_price1\n",
    "    elif s == k1:\n",
    "        option_value['call_price1'][s] = call_price1\n",
    "        \n",
    "    else :\n",
    "        option_value['call_price1'][s] = call_price1 + k1 - s "
   ]
  },
  {
   "cell_type": "code",
   "execution_count": 50,
   "metadata": {},
   "outputs": [],
   "source": [
    "option_value['S1'] = option_value['S'] - 50\n",
    "option_value['covered_call'] = option_value['call_price1']+ option_value['S1']"
   ]
  },
  {
   "cell_type": "code",
   "execution_count": 64,
   "metadata": {},
   "outputs": [
    {
     "data": {
      "text/plain": [
       "Text(0.5, 1.0, 'Covered Call')"
      ]
     },
     "execution_count": 64,
     "metadata": {},
     "output_type": "execute_result"
    },
    {
     "data": {
      "image/png": "[encoded data removed]",
      "text/plain": [
       "<Figure size 432x288 with 1 Axes>"
      ]
     },
     "metadata": {
      "needs_background": "light"
     },
     "output_type": "display_data"
    }
   ],
   "source": [
    "option_value['call_price1'].plot(c = 'b')\n",
    "option_value['S1'].plot(c = 'b')\n",
    "option_value['covered_call'].plot(c = 'g')\n",
    "plt.title('Covered Call')"
   ]
  },
  {
   "cell_type": "code",
   "execution_count": null,
   "metadata": {},
   "outputs": [],
   "source": []
  }
 ],
 "metadata": {
  "kernelspec": {
   "display_name": "Python 3",
   "language": "python",
   "name": "python3"
  },
  "language_info": {
   "codemirror_mode": {
    "name": "ipython",
    "version": 3
   },
   "file_extension": ".py",
   "mimetype": "text/x-python",
   "name": "python",
   "nbconvert_exporter": "python",
   "pygments_lexer": "ipython3",
   "version": "3.8.5"
  }
 },
 "nbformat": 4,
 "nbformat_minor": 4
}
