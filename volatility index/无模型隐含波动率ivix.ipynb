{
 "cells": [
  {
   "cell_type": "code",
   "execution_count": 1,
   "metadata": {},
   "outputs": [],
   "source": [
    "from datetime import datetime\n",
    "import numpy as np\n",
    "import pandas as pd\n",
    "from scipy import interpolate\n",
    "import warnings\n",
    "warnings.filterwarnings('ignore')\n",
    "import matplotlib.pyplot as plt\n",
    "%matplotlib inline\n",
    "from tqdm import tqdm"
   ]
  },
  {
   "cell_type": "markdown",
   "metadata": {},
   "source": [
    "注：参考原文链接：https://github.com/Alexdachen/ivix"
   ]
  },
  {
   "cell_type": "code",
   "execution_count": 2,
   "metadata": {},
   "outputs": [
    {
     "data": {
      "text/html": [
       "<div>\n",
       "<style scoped>\n",
       "    .dataframe tbody tr th:only-of-type {\n",
       "        vertical-align: middle;\n",
       "    }\n",
       "\n",
       "    .dataframe tbody tr th {\n",
       "        vertical-align: top;\n",
       "    }\n",
       "\n",
       "    .dataframe thead th {\n",
       "        text-align: right;\n",
       "    }\n",
       "</style>\n",
       "<table border=\"1\" class=\"dataframe\">\n",
       "  <thead>\n",
       "    <tr style=\"text-align: right;\">\n",
       "      <th></th>\n",
       "      <th>SEC_NAME</th>\n",
       "      <th>EXE_MODE</th>\n",
       "      <th>EXE_PRICE</th>\n",
       "      <th>EXE_ENDDATE</th>\n",
       "      <th>CLOSE</th>\n",
       "    </tr>\n",
       "    <tr>\n",
       "      <th>date</th>\n",
       "      <th></th>\n",
       "      <th></th>\n",
       "      <th></th>\n",
       "      <th></th>\n",
       "      <th></th>\n",
       "    </tr>\n",
       "  </thead>\n",
       "  <tbody>\n",
       "    <tr>\n",
       "      <th>2015-03-25</th>\n",
       "      <td>10000001</td>\n",
       "      <td>认购</td>\n",
       "      <td>2.2</td>\n",
       "      <td>2015-03-25</td>\n",
       "      <td>0.4040</td>\n",
       "    </tr>\n",
       "    <tr>\n",
       "      <th>2015-03-24</th>\n",
       "      <td>10000001</td>\n",
       "      <td>认购</td>\n",
       "      <td>2.2</td>\n",
       "      <td>2015-03-25</td>\n",
       "      <td>0.4415</td>\n",
       "    </tr>\n",
       "    <tr>\n",
       "      <th>2015-03-23</th>\n",
       "      <td>10000001</td>\n",
       "      <td>认购</td>\n",
       "      <td>2.2</td>\n",
       "      <td>2015-03-25</td>\n",
       "      <td>0.4765</td>\n",
       "    </tr>\n",
       "    <tr>\n",
       "      <th>2015-03-20</th>\n",
       "      <td>10000001</td>\n",
       "      <td>认购</td>\n",
       "      <td>2.2</td>\n",
       "      <td>2015-03-25</td>\n",
       "      <td>0.4363</td>\n",
       "    </tr>\n",
       "    <tr>\n",
       "      <th>2015-03-19</th>\n",
       "      <td>10000001</td>\n",
       "      <td>认购</td>\n",
       "      <td>2.2</td>\n",
       "      <td>2015-03-25</td>\n",
       "      <td>0.3902</td>\n",
       "    </tr>\n",
       "  </tbody>\n",
       "</table>\n",
       "</div>"
      ],
      "text/plain": [
       "            SEC_NAME EXE_MODE  EXE_PRICE EXE_ENDDATE   CLOSE\n",
       "date                                                        \n",
       "2015-03-25  10000001       认购        2.2  2015-03-25  0.4040\n",
       "2015-03-24  10000001       认购        2.2  2015-03-25  0.4415\n",
       "2015-03-23  10000001       认购        2.2  2015-03-25  0.4765\n",
       "2015-03-20  10000001       认购        2.2  2015-03-25  0.4363\n",
       "2015-03-19  10000001       认购        2.2  2015-03-25  0.3902"
      ]
     },
     "execution_count": 2,
     "metadata": {},
     "output_type": "execute_result"
    }
   ],
   "source": [
    "options_data = pd.read_excel('/Users/options_data.xlsx',index_col=0)\n",
    "options_data.head()"
   ]
  },
  {
   "cell_type": "code",
   "execution_count": 3,
   "metadata": {},
   "outputs": [],
   "source": [
    "options_data.columns = ['code','type','strike','expdate','close']\n",
    "options_data.type = options_data.type.map({'认购':'C','认沽':'P'})"
   ]
  },
  {
   "cell_type": "code",
   "execution_count": 4,
   "metadata": {},
   "outputs": [],
   "source": [
    "options_data['expdate']=pd.to_datetime(options_data['expdate'])\n",
    "options_data.index = pd.to_datetime(options_data.index)"
   ]
  },
  {
   "cell_type": "code",
   "execution_count": 5,
   "metadata": {},
   "outputs": [],
   "source": [
    "def caculateNearNextExpDate(ivx_date,option):\n",
    "    \"\"\"\n",
    "    筛选近月次月期权\n",
    "    \"\"\"\n",
    "    options = option\n",
    "    options['days'] = (options['expdate'] - options.index).dt.days.map(int)\n",
    "    options = options[options.days>7]\n",
    "    expdate = options.sort_values('expdate')['expdate'].dt.date.unique()\n",
    "    days = options.sort_values('days')['days'].unique()\n",
    "    near_date = expdate[0]\n",
    "    next_date =expdate[1]\n",
    "    NT1 = days[0]\n",
    "    NT2 =days[1]\n",
    "    return near_date,next_date,NT1,NT2"
   ]
  },
  {
   "cell_type": "code",
   "execution_count": 6,
   "metadata": {},
   "outputs": [],
   "source": [
    "def caculateMinGapStrike(date,option):\n",
    "    \"\"\"\n",
    "        计算认购期权价格与认沽期权价格相差最小的执行价和对应的价差\n",
    "        date:到期日期\n",
    "        return : 最小价差对应的执行价,最小价差,所有执行价构成的列表 \n",
    "    \"\"\"\n",
    "    options = option\n",
    "    option = options[(options['expdate'].dt.date==date)]\n",
    "    # option\n",
    "    option = pd.pivot_table(option,index='strike',columns='type',values='close')\n",
    "    option['C_P'] = option['C'] - option['P']\n",
    "    option['abs_gap'] = option['C_P'].abs()\n",
    "    option = option.sort_values('abs_gap')\n",
    "    atm_strike = option.index[0]\n",
    "    min_gap = option['abs_gap'].values[0]\n",
    "    return atm_strike,min_gap,option.index.tolist()"
   ]
  },
  {
   "cell_type": "code",
   "execution_count": 7,
   "metadata": {},
   "outputs": [],
   "source": [
    "def caculateFK0(near_date,next_date,option):\n",
    "    options = option\n",
    "    S1,gap1,S1_list = caculateMinGapStrike(near_date,options)\n",
    "    S2,gap2,S2_list = caculateMinGapStrike(next_date,options)\n",
    "    T1 = NT1/365.\n",
    "    T2 = NT2/365.\n",
    "    F1 = S1+np.exp(T1*R)*gap1\n",
    "    F2 = S2+np.exp(T2*R)*gap2\n",
    "    #K0为稍小于F并离F最近的可用执行价\n",
    "    K01 = np.max([i for i in S1_list if i <=F1])\n",
    "    K02 = np.max([i for i in S2_list if i <=F2])\n",
    "    return F1,F2,K01,K02,T1,T2"
   ]
  },
  {
   "cell_type": "code",
   "execution_count": 8,
   "metadata": {},
   "outputs": [],
   "source": [
    "def caculateSigma(date,K0,T,R,F,option):\n",
    "    options = option\n",
    "    option = options[(options['expdate'].dt.date==date)]\n",
    "    # option = pd.pivot_table(option,index='strike',columns='type',values='close')\n",
    "    option.sort_values('strike',inplace=True)\n",
    "    otm_put = option[(option['strike']<K0)&(option['type']=='P')]\n",
    "    otm_call = option[(option['strike']>K0)&(option['type']=='C')]\n",
    "    atm = option[option['strike']==K0]\n",
    "    atm['close'] =atm['close'].mean()\n",
    "    atm['type'] = 'mix'\n",
    "    \n",
    "    option = otm_put.append(atm.iloc[[0]]).append(otm_call)\n",
    "    option.sort_values('strike',inplace=True)\n",
    "    option['delta_K'] = option['strike'].diff()\n",
    "    option.iloc[0,-1] =option.iloc[1,-1]\n",
    "    option['T'] = T\n",
    "    option['R'] = R \n",
    "    option['var'] = option.apply(lambda x : (x['delta_K']/x['strike']**2)*np.exp(x['R']*x['T'])*x['close'],axis=1)\n",
    "    var = option['var'].sum()\n",
    "    sigma = (2/T)*var - (1/T)*(F/K0 - 1)**2\n",
    "    return sigma"
   ]
  },
  {
   "cell_type": "code",
   "execution_count": 9,
   "metadata": {},
   "outputs": [],
   "source": [
    "def caculateIVX(sigma1,sigma2):\n",
    "    ivx = None\n",
    "    ivx = 100*((T1*sigma1*((NT2-30)/(NT2-NT1)) + T2*sigma2*((30-NT1)/(NT2-NT1)))*(365/30))**0.5\n",
    "    return ivx"
   ]
  },
  {
   "cell_type": "code",
   "execution_count": 10,
   "metadata": {},
   "outputs": [],
   "source": [
    "days = []\n",
    "ivx_list =[]\n",
    "R  = 0.3\n",
    "for ivx_date in options_data.sort_index().index.unique():\n",
    "    days.append(ivx_date)\n",
    "    options = options_data.loc[ivx_date].copy()\n",
    "    near_date,next_date,NT1,NT2 = caculateNearNextExpDate(ivx_date,options)\n",
    "    F1,F2,K01,K02,T1,T2= caculateFK0(near_date,next_date,options)\n",
    "    sigma1 = caculateSigma(near_date,K01,T1,R,F1,options)\n",
    "    sigma2 = caculateSigma(next_date,K02,T2,R,F2,options)\n",
    "    ivx = caculateIVX(sigma1,sigma2)\n",
    "    ivx_list.append(ivx)"
   ]
  },
  {
   "cell_type": "code",
   "execution_count": 11,
   "metadata": {},
   "outputs": [],
   "source": [
    "days= [i.date() for i in days]"
   ]
  },
  {
   "cell_type": "code",
   "execution_count": 55,
   "metadata": {},
   "outputs": [],
   "source": [
    "dates = pd.DataFrame(days)\n",
    "dates.columns = ['date']"
   ]
  },
  {
   "cell_type": "code",
   "execution_count": 12,
   "metadata": {},
   "outputs": [
    {
     "data": {
      "image/png": "[encoded data removed]",
      "text/plain": [
       "<Figure size 720x360 with 1 Axes>"
      ]
     },
     "metadata": {},
     "output_type": "display_data"
    }
   ],
   "source": [
    "plt.style.use('ggplot')\n",
    "plt.figure(figsize=(10,5))\n",
    "plt.plot(ivx_list,label='iVIX')\n",
    "plt.xticks(range(len(days))[::200],days[::200])\n",
    "plt.legend()\n",
    "plt.show()"
   ]
  },
  {
   "cell_type": "code",
   "execution_count": 43,
   "metadata": {},
   "outputs": [],
   "source": [
    "ivix = pd.DataFrame(ivx_list , columns = ['ivix'])"
   ]
  },
  {
   "cell_type": "code",
   "execution_count": 57,
   "metadata": {},
   "outputs": [],
   "source": [
    "iVIX = pd.concat([dates , ivix],axis=1,join='outer')"
   ]
  },
  {
   "cell_type": "code",
   "execution_count": 58,
   "metadata": {},
   "outputs": [
    {
     "data": {
      "text/html": [
       "<div>\n",
       "<style scoped>\n",
       "    .dataframe tbody tr th:only-of-type {\n",
       "        vertical-align: middle;\n",
       "    }\n",
       "\n",
       "    .dataframe tbody tr th {\n",
       "        vertical-align: top;\n",
       "    }\n",
       "\n",
       "    .dataframe thead th {\n",
       "        text-align: right;\n",
       "    }\n",
       "</style>\n",
       "<table border=\"1\" class=\"dataframe\">\n",
       "  <thead>\n",
       "    <tr style=\"text-align: right;\">\n",
       "      <th></th>\n",
       "      <th>date</th>\n",
       "      <th>ivix</th>\n",
       "    </tr>\n",
       "  </thead>\n",
       "  <tbody>\n",
       "    <tr>\n",
       "      <th>0</th>\n",
       "      <td>2015-02-09</td>\n",
       "      <td>27.889018</td>\n",
       "    </tr>\n",
       "    <tr>\n",
       "      <th>1</th>\n",
       "      <td>2015-02-10</td>\n",
       "      <td>28.549065</td>\n",
       "    </tr>\n",
       "    <tr>\n",
       "      <th>2</th>\n",
       "      <td>2015-02-11</td>\n",
       "      <td>25.755854</td>\n",
       "    </tr>\n",
       "    <tr>\n",
       "      <th>3</th>\n",
       "      <td>2015-02-12</td>\n",
       "      <td>24.619843</td>\n",
       "    </tr>\n",
       "    <tr>\n",
       "      <th>4</th>\n",
       "      <td>2015-02-13</td>\n",
       "      <td>21.741204</td>\n",
       "    </tr>\n",
       "    <tr>\n",
       "      <th>...</th>\n",
       "      <td>...</td>\n",
       "      <td>...</td>\n",
       "    </tr>\n",
       "    <tr>\n",
       "      <th>1399</th>\n",
       "      <td>2020-11-10</td>\n",
       "      <td>22.968780</td>\n",
       "    </tr>\n",
       "    <tr>\n",
       "      <th>1400</th>\n",
       "      <td>2020-11-11</td>\n",
       "      <td>22.414297</td>\n",
       "    </tr>\n",
       "    <tr>\n",
       "      <th>1401</th>\n",
       "      <td>2020-11-12</td>\n",
       "      <td>21.972942</td>\n",
       "    </tr>\n",
       "    <tr>\n",
       "      <th>1402</th>\n",
       "      <td>2020-11-13</td>\n",
       "      <td>21.238315</td>\n",
       "    </tr>\n",
       "    <tr>\n",
       "      <th>1403</th>\n",
       "      <td>2020-11-16</td>\n",
       "      <td>21.216862</td>\n",
       "    </tr>\n",
       "  </tbody>\n",
       "</table>\n",
       "<p>1404 rows × 2 columns</p>\n",
       "</div>"
      ],
      "text/plain": [
       "            date       ivix\n",
       "0     2015-02-09  27.889018\n",
       "1     2015-02-10  28.549065\n",
       "2     2015-02-11  25.755854\n",
       "3     2015-02-12  24.619843\n",
       "4     2015-02-13  21.741204\n",
       "...          ...        ...\n",
       "1399  2020-11-10  22.968780\n",
       "1400  2020-11-11  22.414297\n",
       "1401  2020-11-12  21.972942\n",
       "1402  2020-11-13  21.238315\n",
       "1403  2020-11-16  21.216862\n",
       "\n",
       "[1404 rows x 2 columns]"
      ]
     },
     "execution_count": 58,
     "metadata": {},
     "output_type": "execute_result"
    }
   ],
   "source": [
    "iVIX"
   ]
  },
  {
   "cell_type": "code",
   "execution_count": 60,
   "metadata": {},
   "outputs": [],
   "source": [
    "iVIX.to_excel('/Users/无模型隐含波动率.xlsx')"
   ]
  },
  {
   "cell_type": "code",
   "execution_count": null,
   "metadata": {},
   "outputs": [],
   "source": []
  }
 ],
 "metadata": {
  "kernelspec": {
   "display_name": "Python 3",
   "language": "python",
   "name": "python3"
  },
  "language_info": {
   "codemirror_mode": {
    "name": "ipython",
    "version": 3
   },
   "file_extension": ".py",
   "mimetype": "text/x-python",
   "name": "python",
   "nbconvert_exporter": "python",
   "pygments_lexer": "ipython3",
   "version": "3.8.5"
  },
  "toc": {
   "base_numbering": 1,
   "nav_menu": {},
   "number_sections": true,
   "sideBar": true,
   "skip_h1_title": false,
   "title_cell": "Table of Contents",
   "title_sidebar": "Contents",
   "toc_cell": false,
   "toc_position": {},
   "toc_section_display": true,
   "toc_window_display": false
  }
 },
 "nbformat": 4,
 "nbformat_minor": 2
}
