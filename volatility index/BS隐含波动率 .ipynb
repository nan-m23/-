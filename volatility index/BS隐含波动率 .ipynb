{
 "cells": [
  {
   "cell_type": "code",
   "execution_count": 1,
   "metadata": {},
   "outputs": [],
   "source": [
    "import pandas as pd\n",
    "import numpy as np\n",
    "from math import log,exp,sqrt\n",
    "from collections import defaultdict\n",
    "from itertools import product\n",
    "from scipy.optimize import minimize\n",
    "from scipy.optimize import fsolve\n",
    "from scipy.stats import norm\n",
    "from matplotlib import pyplot as plt\n",
    "import warnings \n",
    "#关于这个warning，因为使用了很多循坏来向dataframe里填入数据，因此新加数据覆盖原有数据时会产生一个复制，并出现warning\n",
    "warnings.filterwarnings(\"ignore\")\n",
    "%matplotlib inline"
   ]
  },
  {
   "cell_type": "markdown",
   "metadata": {},
   "source": [
    "加权BS隐含波动率编制方法参考原文链接：https://github.com/Jensenberg/volatility-and-option （**）"
   ]
  },
  {
   "cell_type": "markdown",
   "metadata": {},
   "source": [
    "首先来计算加权BS隐含波动率"
   ]
  },
  {
   "cell_type": "markdown",
   "metadata": {},
   "source": [
    "使用类将求解隐含波动率的过程集合起来"
   ]
  },
  {
   "cell_type": "code",
   "execution_count": 2,
   "metadata": {},
   "outputs": [],
   "source": [
    "class IV():\n",
    "    '''定义一个通过Balck-Scholes公式求隐含波动率的类'''    \n",
    "    Y_days = 365 #一年的总天数，按自然日计算\n",
    "    \n",
    "    def __init__(self, S, K, r, T_days, price):\n",
    "        self.S = S #标的价格\n",
    "        self.K = K #执行价格\n",
    "        self.r = r #无风险利率\n",
    "        self.T = T_days / self.Y_days #到期期限\n",
    "        self.price = price #期权的交易价格\n",
    "        \n",
    "    def bs_value(self, sigma):\n",
    "        '''\n",
    "        计算期权的B-S价格\n",
    "        sigma:\n",
    "            波动率\n",
    "        '''\n",
    "        d1 = (log(self.S / self.K) + (self.r + 0.5 * sigma**2) * self.T)\\\n",
    "             / (sigma * sqrt(self.T))\n",
    "        d2 = d1 - sigma * sqrt(self.T)\n",
    "        return self.S * norm.cdf(d1) - self.K * norm.cdf(d2) * exp(-self.r * self.T)\n",
    "    \n",
    "    def vega(self, sigma):\n",
    "        '''\n",
    "        B-S公式得到的期权价格关于波动率的导数，希腊值vega\n",
    "        '''\n",
    "        d1 = (log(self.S / self.K) + (self.r + 0.5 * sigma**2) * self.T)\\\n",
    "             / (sigma * sqrt(self.T))\n",
    "        return self.S * norm.pdf(d1) * sqrt(self.T)\n",
    "    \n",
    "    def newton(self, sigma=0.3, N=50):\n",
    "        '''\n",
    "        用牛顿迭代法（Newton-Raphson方法）不断迭代来逼近隐含波动率\n",
    "        Newton法较稳定，但有时得不到解，尤其是在put价格很小的时候\n",
    "        N:\n",
    "            迭代次数\n",
    "        '''\n",
    "        for i in range(N):\n",
    "            sigma -= (self.bs_value(sigma) - self.price) / self.vega(sigma)\n",
    "        return sigma\n",
    "    \n",
    "    def equation(self, sigma):\n",
    "        '''\n",
    "        建立一个期权价格与B-S公式得到的理论价格之间的方程\n",
    "        '''\n",
    "        return self.bs_value(sigma) - self.price\n",
    "    \n",
    "    def solve(self, sigma=0.5):\n",
    "        '''\n",
    "        使用scipy.optimize.fsolve求解隐含波动率\n",
    "        fsovle总能得到解，但有些解有点奇怪，速度比Newton法快一些\n",
    "        '''\n",
    "        return fsolve(self.equation, sigma)[0]"
   ]
  },
  {
   "cell_type": "markdown",
   "metadata": {},
   "source": [
    "导入处理好的etf数据、期权数据和3月shibor数据"
   ]
  },
  {
   "cell_type": "code",
   "execution_count": 3,
   "metadata": {},
   "outputs": [],
   "source": [
    "a50_option = pd.read_excel('/Users/50ETF期权已处理数据——iVIX用.xlsx')"
   ]
  },
  {
   "cell_type": "code",
   "execution_count": 4,
   "metadata": {},
   "outputs": [],
   "source": [
    "shibor = pd.read_excel('/Users/SHIBOR-3M.xlsx')"
   ]
  },
  {
   "cell_type": "code",
   "execution_count": 5,
   "metadata": {},
   "outputs": [],
   "source": [
    "a50_etf = pd.read_excel('/Users/a50etf已处理数据.xlsx' , parse_dates = True)"
   ]
  },
  {
   "cell_type": "code",
   "execution_count": 6,
   "metadata": {},
   "outputs": [],
   "source": [
    "a50_etf['date'] = pd.to_datetime(a50_etf['date'])"
   ]
  },
  {
   "cell_type": "markdown",
   "metadata": {},
   "source": [
    "只保留收盘价作为BS公式里的S"
   ]
  },
  {
   "cell_type": "code",
   "execution_count": 7,
   "metadata": {},
   "outputs": [],
   "source": [
    "a50_etf = a50_etf.loc[:, ['date' , 'close']]"
   ]
  },
  {
   "cell_type": "code",
   "execution_count": 8,
   "metadata": {},
   "outputs": [],
   "source": [
    "BS_iv =  pd.merge(a50_option , shibor , on = 'date' , how = 'left')"
   ]
  },
  {
   "cell_type": "code",
   "execution_count": 9,
   "metadata": {},
   "outputs": [],
   "source": [
    "BS_iv = pd.merge(BS_iv , a50_etf , on = 'date' , how = 'left')"
   ]
  },
  {
   "cell_type": "code",
   "execution_count": 10,
   "metadata": {},
   "outputs": [],
   "source": [
    "BS_iv.set_index(['date' , 'expire'] , inplace = True)"
   ]
  },
  {
   "cell_type": "markdown",
   "metadata": {},
   "source": [
    "首先计算期权的虚值程度"
   ]
  },
  {
   "cell_type": "code",
   "execution_count": 12,
   "metadata": {},
   "outputs": [],
   "source": [
    "BS_iv['positive_value'] = np.where(BS_iv['strike'] - BS_iv['close'] > 0 , \n",
    "                                   BS_iv['strike'] - BS_iv['close'] , \n",
    "                                   BS_iv['strike'])"
   ]
  },
  {
   "cell_type": "markdown",
   "metadata": {},
   "source": [
    "计算实值程度"
   ]
  },
  {
   "cell_type": "code",
   "execution_count": 13,
   "metadata": {},
   "outputs": [],
   "source": [
    "BS_iv['negative_value'] = np.where(BS_iv['close'] - BS_iv['strike'] > 0 , \n",
    "                                   BS_iv['close'] - BS_iv['strike'] , \n",
    "                                   BS_iv['close'])"
   ]
  },
  {
   "cell_type": "code",
   "execution_count": 14,
   "metadata": {},
   "outputs": [],
   "source": [
    "otm = BS_iv.groupby(level = ['date' , 'expire'])[['positive_value']].min()"
   ]
  },
  {
   "cell_type": "code",
   "execution_count": 15,
   "metadata": {},
   "outputs": [],
   "source": [
    "otm.rename(columns = {'positive_value' : 'otm'} , inplace = True)"
   ]
  },
  {
   "cell_type": "code",
   "execution_count": 16,
   "metadata": {},
   "outputs": [],
   "source": [
    "itm = BS_iv.groupby(level = ['date' , 'expire'])[['negative_value']].min()"
   ]
  },
  {
   "cell_type": "code",
   "execution_count": 17,
   "metadata": {},
   "outputs": [],
   "source": [
    "itm.rename(columns = {'negative_value' : 'itm'} , inplace = True)"
   ]
  },
  {
   "cell_type": "code",
   "execution_count": 18,
   "metadata": {},
   "outputs": [
    {
     "data": {
      "text/html": [
       "<div>\n",
       "<style scoped>\n",
       "    .dataframe tbody tr th:only-of-type {\n",
       "        vertical-align: middle;\n",
       "    }\n",
       "\n",
       "    .dataframe tbody tr th {\n",
       "        vertical-align: top;\n",
       "    }\n",
       "\n",
       "    .dataframe thead th {\n",
       "        text-align: right;\n",
       "    }\n",
       "</style>\n",
       "<table border=\"1\" class=\"dataframe\">\n",
       "  <thead>\n",
       "    <tr style=\"text-align: right;\">\n",
       "      <th></th>\n",
       "      <th></th>\n",
       "      <th>otm</th>\n",
       "    </tr>\n",
       "    <tr>\n",
       "      <th>date</th>\n",
       "      <th>expire</th>\n",
       "      <th></th>\n",
       "    </tr>\n",
       "  </thead>\n",
       "  <tbody>\n",
       "    <tr>\n",
       "      <th rowspan=\"4\" valign=\"top\">2017-01-03</th>\n",
       "      <th>2017-01-25</th>\n",
       "      <td>0.041</td>\n",
       "    </tr>\n",
       "    <tr>\n",
       "      <th>2017-02-22</th>\n",
       "      <td>0.043</td>\n",
       "    </tr>\n",
       "    <tr>\n",
       "      <th>2017-03-22</th>\n",
       "      <td>0.041</td>\n",
       "    </tr>\n",
       "    <tr>\n",
       "      <th>2017-06-28</th>\n",
       "      <td>0.041</td>\n",
       "    </tr>\n",
       "    <tr>\n",
       "      <th>2017-01-04</th>\n",
       "      <th>2017-01-25</th>\n",
       "      <td>0.023</td>\n",
       "    </tr>\n",
       "    <tr>\n",
       "      <th>...</th>\n",
       "      <th>...</th>\n",
       "      <td>...</td>\n",
       "    </tr>\n",
       "    <tr>\n",
       "      <th>2020-12-30</th>\n",
       "      <th>2021-06-23</th>\n",
       "      <td>0.037</td>\n",
       "    </tr>\n",
       "    <tr>\n",
       "      <th rowspan=\"4\" valign=\"top\">2020-12-31</th>\n",
       "      <th>2021-01-27</th>\n",
       "      <td>0.066</td>\n",
       "    </tr>\n",
       "    <tr>\n",
       "      <th>2021-02-24</th>\n",
       "      <td>0.066</td>\n",
       "    </tr>\n",
       "    <tr>\n",
       "      <th>2021-03-24</th>\n",
       "      <td>0.066</td>\n",
       "    </tr>\n",
       "    <tr>\n",
       "      <th>2021-06-23</th>\n",
       "      <td>0.066</td>\n",
       "    </tr>\n",
       "  </tbody>\n",
       "</table>\n",
       "<p>3896 rows × 1 columns</p>\n",
       "</div>"
      ],
      "text/plain": [
       "                         otm\n",
       "date       expire           \n",
       "2017-01-03 2017-01-25  0.041\n",
       "           2017-02-22  0.043\n",
       "           2017-03-22  0.041\n",
       "           2017-06-28  0.041\n",
       "2017-01-04 2017-01-25  0.023\n",
       "...                      ...\n",
       "2020-12-30 2021-06-23  0.037\n",
       "2020-12-31 2021-01-27  0.066\n",
       "           2021-02-24  0.066\n",
       "           2021-03-24  0.066\n",
       "           2021-06-23  0.066\n",
       "\n",
       "[3896 rows x 1 columns]"
      ]
     },
     "execution_count": 18,
     "metadata": {},
     "output_type": "execute_result"
    }
   ],
   "source": [
    "otm"
   ]
  },
  {
   "cell_type": "code",
   "execution_count": 19,
   "metadata": {},
   "outputs": [],
   "source": [
    "BS_iv = BS_iv.join(otm)\n",
    "BS_iv = BS_iv.join(itm)"
   ]
  },
  {
   "cell_type": "code",
   "execution_count": 20,
   "metadata": {},
   "outputs": [],
   "source": [
    "itm_sp = BS_iv[BS_iv['itm'] == BS_iv['close']]"
   ]
  },
  {
   "cell_type": "code",
   "execution_count": 21,
   "metadata": {},
   "outputs": [],
   "source": [
    "BS_iv['itm'] = np.where(BS_iv['itm'] == BS_iv['close'] , BS_iv['itm'] + 1 , BS_iv['itm'])"
   ]
  },
  {
   "cell_type": "markdown",
   "metadata": {},
   "source": [
    "提取最实值虚值程度最低的期权"
   ]
  },
  {
   "cell_type": "code",
   "execution_count": 22,
   "metadata": {},
   "outputs": [],
   "source": [
    "def option_slice(data , value_tag , time_tag):\n",
    "    \n",
    "    if value_tag == 'otm' :\n",
    "        spread = 'positive_value'\n",
    "    else :\n",
    "        spread = 'negative_value'\n",
    "    \n",
    "    data_tag = data[(data[spread] == data[value_tag]) \n",
    "                    & (data['T_days'] == data[time_tag])]\n",
    "    data_tag.reset_index(level = 1 , inplace = True)\n",
    "    \n",
    "    return data_tag"
   ]
  },
  {
   "cell_type": "markdown",
   "metadata": {},
   "source": [
    "计算隐含波动率"
   ]
  },
  {
   "cell_type": "code",
   "execution_count": 23,
   "metadata": {},
   "outputs": [],
   "source": [
    "def get_iv(data , types , method = 'newton'):\n",
    "    S = data['close']\n",
    "    K = data['strike']\n",
    "    r = data['shibor_3M']\n",
    "    T_days = data['T_days']\n",
    "    price = data[types]\n",
    "    iv = IV(S , K , r , T_days , price)\n",
    "    if method == 'newton':\n",
    "        return iv.newton()\n",
    "    else :\n",
    "        return iv.solve()"
   ]
  },
  {
   "cell_type": "code",
   "execution_count": 24,
   "metadata": {},
   "outputs": [],
   "source": [
    "IVs = {}"
   ]
  },
  {
   "cell_type": "markdown",
   "metadata": {},
   "source": [
    "生成一个定位目标期权的标志组成的数组"
   ]
  },
  {
   "cell_type": "code",
   "execution_count": 25,
   "metadata": {},
   "outputs": [
    {
     "data": {
      "text/plain": [
       "[('otm', 'last1'), ('otm', 'last2'), ('itm', 'last1'), ('itm', 'last2')]"
      ]
     },
     "execution_count": 25,
     "metadata": {},
     "output_type": "execute_result"
    }
   ],
   "source": [
    "value_tags = ['otm' , 'itm']\n",
    "last_tags = ['last1' , 'last2']\n",
    "tags = list(product(value_tags , last_tags))\n",
    "tags"
   ]
  },
  {
   "cell_type": "code",
   "execution_count": 26,
   "metadata": {},
   "outputs": [],
   "source": [
    "for tag in tags:\n",
    "        vt, lt = tag\n",
    "        data_tag = option_slice(BS_iv, vt, lt) #提取满足某一实虚值标记，某一次近月标记的数据\n",
    "        dates = data_tag.index \n",
    "        IVs[(vt, lt)] = defaultdict(dict)\n",
    "        for date in dates:\n",
    "            data_t = data_tag.loc[date, :]\n",
    "            method = 'newton' if vt == 'otm' else 'fsolve' #对实值put用fsolve\n",
    "            IVs[(vt, lt)][date].update({'call': get_iv(data_t, 'call')})\n",
    "            IVs[(vt, lt)][date].update({'put': get_iv(data_t, 'put', method)})\n",
    "    "
   ]
  },
  {
   "cell_type": "code",
   "execution_count": 27,
   "metadata": {},
   "outputs": [
    {
     "name": "stdout",
     "output_type": "stream",
     "text": [
      "1 1 17 12\n"
     ]
    }
   ],
   "source": [
    "print(pd.DataFrame(IVs['otm', 'last1']).isnull().values.sum() , \n",
    "      pd.DataFrame(IVs['otm', 'last2']).isnull().values.sum() ,\n",
    "      pd.DataFrame(IVs['itm', 'last1']).isnull().values.sum() ,\n",
    "      pd.DataFrame(IVs['itm', 'last2']).isnull().values.sum())"
   ]
  },
  {
   "cell_type": "markdown",
   "metadata": {},
   "source": [
    "计算期权隐含波动率的平均值"
   ]
  },
  {
   "cell_type": "code",
   "execution_count": 28,
   "metadata": {},
   "outputs": [],
   "source": [
    "def call_put_mean(tag):\n",
    "    return pd.DataFrame(IVs[tag]).T.mean(axis = 1)"
   ]
  },
  {
   "cell_type": "code",
   "execution_count": 29,
   "metadata": {},
   "outputs": [],
   "source": [
    "cp_mean = {}"
   ]
  },
  {
   "cell_type": "code",
   "execution_count": 30,
   "metadata": {},
   "outputs": [],
   "source": [
    "for tag in tags:\n",
    "    cp_mean[tag] = call_put_mean(tag)"
   ]
  },
  {
   "cell_type": "code",
   "execution_count": 31,
   "metadata": {},
   "outputs": [],
   "source": [
    "cp_mean = pd.DataFrame(cp_mean)"
   ]
  },
  {
   "cell_type": "code",
   "execution_count": 32,
   "metadata": {},
   "outputs": [
    {
     "data": {
      "text/plain": [
       "1"
      ]
     },
     "execution_count": 32,
     "metadata": {},
     "output_type": "execute_result"
    }
   ],
   "source": [
    "cp_mean.isnull().values.sum() #问：为什么会有 NAN？？ \n",
    "                              #答：因为计算出的IV就有 NAN (见28行) ， \n",
    "                              #可能是牛顿迭代法没有求出解。如果后续出现问题得换个方法求IV"
   ]
  },
  {
   "cell_type": "markdown",
   "metadata": {},
   "source": [
    "计算实值虚值程度的权数"
   ]
  },
  {
   "cell_type": "code",
   "execution_count": 33,
   "metadata": {},
   "outputs": [],
   "source": [
    "k_spread = {}"
   ]
  },
  {
   "cell_type": "code",
   "execution_count": 34,
   "metadata": {},
   "outputs": [],
   "source": [
    "for vt in value_tags:\n",
    "    data_tag = option_slice(BS_iv , vt , 'last1')\n",
    "    k_spread[vt] = data_tag[vt]"
   ]
  },
  {
   "cell_type": "code",
   "execution_count": 35,
   "metadata": {},
   "outputs": [],
   "source": [
    "k_spread = pd.DataFrame(k_spread)"
   ]
  },
  {
   "cell_type": "code",
   "execution_count": 36,
   "metadata": {},
   "outputs": [
    {
     "data": {
      "text/plain": [
       "1"
      ]
     },
     "execution_count": 36,
     "metadata": {},
     "output_type": "execute_result"
    }
   ],
   "source": [
    "k_spread.isnull().values.sum() #这里也有 NAN"
   ]
  },
  {
   "cell_type": "code",
   "execution_count": 37,
   "metadata": {},
   "outputs": [],
   "source": [
    "k_spread['otm_weight'] = k_spread['itm'] / (k_spread['otm'] + k_spread['itm'])\n",
    "k_spread['itm_weight'] = k_spread['otm'] / (k_spread['otm'] + k_spread['itm'])"
   ]
  },
  {
   "cell_type": "markdown",
   "metadata": {},
   "source": [
    "以实值虚值程度权数，计算近月远月加权波动率"
   ]
  },
  {
   "cell_type": "code",
   "execution_count": 38,
   "metadata": {},
   "outputs": [],
   "source": [
    "k_weighted = cp_mean.join(k_spread)"
   ]
  },
  {
   "cell_type": "code",
   "execution_count": 39,
   "metadata": {},
   "outputs": [],
   "source": [
    "k_weighted['vol_last1'] = k_weighted[('otm', 'last1')] * k_weighted['otm_weight']\\\n",
    "                        + k_weighted[('itm', 'last1')] * k_weighted['itm_weight']"
   ]
  },
  {
   "cell_type": "code",
   "execution_count": 40,
   "metadata": {},
   "outputs": [],
   "source": [
    "k_weighted['vol_last2'] = k_weighted[('otm', 'last2')] * k_weighted['otm_weight']\\\n",
    "                        + k_weighted[('itm', 'last2')] * k_weighted['itm_weight']   "
   ]
  },
  {
   "cell_type": "markdown",
   "metadata": {},
   "source": [
    "提取存续期"
   ]
  },
  {
   "cell_type": "code",
   "execution_count": 41,
   "metadata": {},
   "outputs": [],
   "source": [
    "T_spread = {}"
   ]
  },
  {
   "cell_type": "code",
   "execution_count": 42,
   "metadata": {},
   "outputs": [],
   "source": [
    "for lt in last_tags:\n",
    "    data_flag = option_slice(BS_iv , 'otm' , lt)\n",
    "    T_spread[lt] = data_flag['T_days']"
   ]
  },
  {
   "cell_type": "code",
   "execution_count": 43,
   "metadata": {},
   "outputs": [],
   "source": [
    "T_spread = pd.DataFrame(T_spread)"
   ]
  },
  {
   "cell_type": "code",
   "execution_count": 44,
   "metadata": {},
   "outputs": [],
   "source": [
    "T_weighted = k_weighted.join(T_spread)"
   ]
  },
  {
   "cell_type": "markdown",
   "metadata": {},
   "source": [
    "以存续期加权，计算得到 BS_IV"
   ]
  },
  {
   "cell_type": "code",
   "execution_count": 45,
   "metadata": {},
   "outputs": [],
   "source": [
    "T_weighted['last1_weight'] = (T_weighted['last2'] - 30)\\\n",
    "                               / (T_weighted['last2'] - T_weighted['last1'])\n",
    "T_weighted['last2_weight'] = (30 - T_weighted['last1'])\\\n",
    "                               / (T_weighted['last2'] - T_weighted['last1'])\n",
    "T_weighted['BS_IV'] = T_weighted['vol_last1'] * T_weighted['last1_weight']\\\n",
    "                      + T_weighted['vol_last2'] * T_weighted['last2_weight']"
   ]
  },
  {
   "cell_type": "markdown",
   "metadata": {},
   "source": [
    "后来想算了，懒得弄了，直接把nan值用插值法替代了"
   ]
  },
  {
   "cell_type": "code",
   "execution_count": 46,
   "metadata": {},
   "outputs": [],
   "source": [
    "nan_dates = T_weighted[T_weighted['BS_IV'].isnull()].index\n",
    "for date in nan_dates:\n",
    "    T_weighted.loc[date, 'BS_IV'] = T_weighted.loc[date, tags].mean()"
   ]
  },
  {
   "cell_type": "code",
   "execution_count": 47,
   "metadata": {},
   "outputs": [
    {
     "data": {
      "text/plain": [
       "Text(0.5, 1.0, 'BS-IV')"
      ]
     },
     "execution_count": 47,
     "metadata": {},
     "output_type": "execute_result"
    },
    {
     "data": {
      "image/png": "[encoded data removed]",
      "text/plain": [
       "<Figure size 1080x576 with 1 Axes>"
      ]
     },
     "metadata": {
      "needs_background": "light"
     },
     "output_type": "display_data"
    }
   ],
   "source": [
    "plt.figure(figsize=(15, 8))\n",
    "plt.plot(T_weighted['BS_IV'])\n",
    "plt.xticks(fontsize=14)\n",
    "plt.yticks(fontsize=14)\n",
    "plt.ylabel('BS_IV', fontsize=16)\n",
    "plt.xlabel('date', fontsize=16)\n",
    "plt.title('BS-IV', fontsize=16)"
   ]
  },
  {
   "cell_type": "code",
   "execution_count": 48,
   "metadata": {},
   "outputs": [],
   "source": [
    "BS_IV = pd.DataFrame(T_weighted)\n",
    "BS_IV['date'] = dates"
   ]
  },
  {
   "cell_type": "code",
   "execution_count": 49,
   "metadata": {},
   "outputs": [],
   "source": [
    "BS_IV.to_excel('/Users/50ETF-BS隐含波动率.xlsx' , index = None)"
   ]
  },
  {
   "cell_type": "code",
   "execution_count": null,
   "metadata": {},
   "outputs": [],
   "source": []
  }
 ],
 "metadata": {
  "kernelspec": {
   "display_name": "Python 3",
   "language": "python",
   "name": "python3"
  },
  "language_info": {
   "codemirror_mode": {
    "name": "ipython",
    "version": 3
   },
   "file_extension": ".py",
   "mimetype": "text/x-python",
   "name": "python",
   "nbconvert_exporter": "python",
   "pygments_lexer": "ipython3",
   "version": "3.8.5"
  }
 },
 "nbformat": 4,
 "nbformat_minor": 4
}
